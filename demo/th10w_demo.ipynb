{
 "cells": [
  {
   "cell_type": "markdown",
   "metadata": {},
   "source": [
    "## WiFi溫溼度: TH10W\n",
    "\n",
    "- [ref1](http://www.miaoxinjj.com/product/278052769)\n",
    "- modbus/TCP通訊方式\n",
    "- base0, addr(0, 1)=(T, H)"
   ]
  },
  {
   "cell_type": "code",
   "execution_count": 1,
   "metadata": {},
   "outputs": [],
   "source": [
    "import serial\n",
    "import modbus_tk\n",
    "import modbus_tk.defines as cst\n",
    "import modbus_tk.modbus_rtu as modbus_rtu\n",
    "import modbus_tk.modbus_tcp as modbus_tcp\n",
    "import time\n",
    "from struct import *"
   ]
  },
  {
   "cell_type": "code",
   "execution_count": 7,
   "metadata": {},
   "outputs": [],
   "source": [
    "mbTimeout = 1\n",
    "mb_ip = '192.168.1.2'\n",
    "mb_port = 502"
   ]
  },
  {
   "cell_type": "code",
   "execution_count": 8,
   "metadata": {},
   "outputs": [
    {
     "name": "stdout",
     "output_type": "stream",
     "text": [
      "read value: (284, 572)\n"
     ]
    },
    {
     "data": {
      "text/plain": [
       "True"
      ]
     },
     "execution_count": 8,
     "metadata": {},
     "output_type": "execute_result"
    }
   ],
   "source": [
    "# Modbus/TCP Client Start\n",
    "master = modbus_tcp.TcpMaster(mb_ip, mb_port)\n",
    "master.set_timeout(mbTimeout)\n",
    "\n",
    "mbId = 1\n",
    "addr = 0\n",
    "try:\n",
    "    # FC3\n",
    "    rr = master.execute(mbId, cst.READ_INPUT_REGISTERS, addr, 2)\n",
    "    print('read value:', rr)\n",
    "\n",
    "except Exception as e:\n",
    "    print(\"modbus test Error: \" + str(e))\n",
    "\n",
    "master._do_close()\n"
   ]
  },
  {
   "cell_type": "code",
   "execution_count": 9,
   "metadata": {},
   "outputs": [
    {
     "data": {
      "text/plain": [
       "(28.4, 57.2)"
      ]
     },
     "execution_count": 9,
     "metadata": {},
     "output_type": "execute_result"
    }
   ],
   "source": [
    "temp = rr[0]/10\n",
    "humi = rr[1]/10\n",
    "(temp, humi)"
   ]
  }
 ],
 "metadata": {
  "kernelspec": {
   "display_name": "Python 3",
   "language": "python",
   "name": "python3"
  },
  "language_info": {
   "codemirror_mode": {
    "name": "ipython",
    "version": 3
   },
   "file_extension": ".py",
   "mimetype": "text/x-python",
   "name": "python",
   "nbconvert_exporter": "python",
   "pygments_lexer": "ipython3",
   "version": "3.7.1"
  }
 },
 "nbformat": 4,
 "nbformat_minor": 2
}
